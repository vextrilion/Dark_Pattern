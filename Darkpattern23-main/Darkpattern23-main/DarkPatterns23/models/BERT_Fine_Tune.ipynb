{
  "cells": [
    {
      "cell_type": "code",
      "execution_count": null,
      "id": "8d0e3272-ac9c-49e5-a111-1ad56d8bd49c",
      "metadata": {
        "id": "8d0e3272-ac9c-49e5-a111-1ad56d8bd49c"
      },
      "outputs": [],
      "source": [
        "\n",
        "import pandas as pd\n",
        "from sklearn.model_selection import train_test_split\n",
        "from transformers import TrainingArguments, Trainer, TFAutoModel, AutoTokenizer, BertForSequenceClassification, pipeline\n",
        "from sklearn.preprocessing import LabelEncoder\n",
        "from torch.utils.data import Dataset\n",
        "import torch"
      ]
    },
    {
      "cell_type": "code",
      "execution_count": null,
      "id": "f03479d4-7bfa-433a-a695-4ea7822a5ada",
      "metadata": {
        "id": "f03479d4-7bfa-433a-a695-4ea7822a5ada"
      },
      "outputs": [],
      "source": [
        "train_encodings = tokenizer(train_texts, truncation=True, padding=True)\n",
        "if len(val_texts) > 0:\n",
        "    val_encodings = tokenizer(val_texts, truncation=True, padding=True)\n",
        "else:\n",
        "    val_encodings = None  # or handle it accordingly)\n",
        "test_encodings = tokenizer(test_texts, truncation=True, padding=True)"
      ]
    },
    {
      "cell_type": "code",
      "execution_count": null,
      "id": "aaae70a7-76cd-40d1-9114-192bb89e7787",
      "metadata": {
        "id": "aaae70a7-76cd-40d1-9114-192bb89e7787"
      },
      "outputs": [],
      "source": [
        "class Dataloader(Dataset):\n",
        "    def __init__(self, encodings, labels):\n",
        "        self.encodings = encodings\n",
        "        self.labels = labels\n",
        "\n",
        "    def __getitem__(self, idx):\n",
        "        item = {key: torch.tensor(val[idx]) for key, val in self.encodings.items()}\n",
        "        item['labels'] = torch.tensor(self.labels[idx])\n",
        "        return item\n",
        "\n",
        "    def __len__(self):\n",
        "        return len(self.labels)"
      ]
    },
    {
      "cell_type": "code",
      "execution_count": null,
      "id": "544f5e1b-d3e8-4cad-bbfe-ac0616d6149d",
      "metadata": {
        "id": "544f5e1b-d3e8-4cad-bbfe-ac0616d6149d"
      },
      "outputs": [],
      "source": [
        "train_dataloader = Dataloader(train_encodings, train_labels)\n",
        "val_dataloader = Dataloader(val_encodings, val_labels)\n",
        "test_dataloader = Dataloader(test_encodings, test_labels)"
      ]
    },
    {
      "cell_type": "code",
      "execution_count": null,
      "id": "558177ca-b04c-4640-b42d-47960b82193e",
      "metadata": {
        "id": "558177ca-b04c-4640-b42d-47960b82193e"
      },
      "outputs": [],
      "source": [
        "from transformers import TrainingArguments, Trainer"
      ]
    },
    {
      "cell_type": "code",
      "execution_count": null,
      "id": "cb945a9f-8750-44c2-bfb3-1882ba90b7fa",
      "metadata": {
        "id": "cb945a9f-8750-44c2-bfb3-1882ba90b7fa"
      },
      "outputs": [],
      "source": [
        "from sklearn.metrics import accuracy_score, precision_recall_fscore_support\n",
        "\n",
        "def compute_metrics(pred):\n",
        "    labels = pred.label_ids\n",
        "\n",
        "    # Obtain predicted class labels by finding the column index with the maximum probability\n",
        "    preds = pred.predictions.argmax(-1)\n",
        "\n",
        "    # Compute macro precision, recall, and F1 score using sklearn's precision_recall_fscore_support function\n",
        "    precision, recall, f1, _ = precision_recall_fscore_support(labels, preds, average='macro')\n",
        "\n",
        "    # Calculate the accuracy score using sklearn's accuracy_score function\n",
        "    acc = accuracy_score(labels, preds)\n",
        "\n",
        "    # Return the computed metrics as a dictionary\n",
        "    return {\n",
        "        'Accuracy': acc,\n",
        "        'F1': f1,\n",
        "        'Precision': precision,\n",
        "        'Recall': recall\n",
        "    }"
      ]
    },
    {
      "cell_type": "code",
      "execution_count": null,
      "id": "35124c0a",
      "metadata": {},
      "outputs": [],
      "source": [
        "pip install transformers[torch]\n"
      ]
    },
    {
      "cell_type": "code",
      "execution_count": null,
      "id": "950ba417-d419-4659-a15d-2d4768800d63",
      "metadata": {
        "id": "950ba417-d419-4659-a15d-2d4768800d63"
      },
      "outputs": [],
      "source": [
        "training_args = TrainingArguments(\n",
        "    output_dir=\"./TTC4908Model\",\n",
        "    do_train=True,\n",
        "    do_eval=True,\n",
        "\n",
        "    num_train_epochs=3,\n",
        "    per_device_train_batch_size=4,  # Decrease batch size to reduce memory usage\n",
        "    per_device_eval_batch_size=8,    # You can also reduce eval batch size if necessary\n",
        "\n",
        "    warmup_steps=100,\n",
        "    weight_decay=0.01,\n",
        "    logging_strategy=\"steps\",\n",
        "\n",
        "    logging_dir=\"./multi-class-logs\",\n",
        "    logging_steps=50,\n",
        "    evaluation_strategy=\"steps\",\n",
        "    eval_steps=50,\n",
        "    save_strategy=\"steps\",\n",
        "    fp16=False,\n",
        "    load_best_model_at_end=True,\n",
        ")\n"
      ]
    },
    {
      "cell_type": "code",
      "execution_count": null,
      "id": "cfe40e3c-821f-45c6-8d93-94c544bb2d2a",
      "metadata": {
        "id": "cfe40e3c-821f-45c6-8d93-94c544bb2d2a"
      },
      "outputs": [],
      "source": [
        "trainer = Trainer(\n",
        "    # the pre-trained model that will be fine-tuned\n",
        "    model=model,\n",
        "\n",
        "    # training arguments that we defined above\n",
        "    args=training_args,\n",
        "    train_dataset=train_dataloader,\n",
        "    eval_dataset=val_dataloader,\n",
        "    compute_metrics=compute_metrics\n",
        ")"
      ]
    },
    {
      "cell_type": "code",
      "execution_count": null,
      "id": "de04adf8-b438-4eac-a137-d3a23cbde093",
      "metadata": {
        "colab": {
          "base_uri": "https://localhost:8080/",
          "height": 636
        },
        "id": "de04adf8-b438-4eac-a137-d3a23cbde093",
        "outputId": "892e0963-823e-42b9-b083-554ae8ba2cbd"
      },
      "outputs": [],
      "source": [
        "trainer.train()"
      ]
    },
    {
      "cell_type": "code",
      "execution_count": null,
      "id": "DU42Qpxjny7K",
      "metadata": {
        "colab": {
          "base_uri": "https://localhost:8080/"
        },
        "id": "DU42Qpxjny7K",
        "outputId": "34b87266-97c0-4fe2-e60b-8942078aeba4"
      },
      "outputs": [],
      "source": [
        "model_path = \"Titans_DPBH_BERT_Fine_Tuned_Model2\"\n",
        "trainer.save_model(model_path)\n",
        "tokenizer.save_pretrained(model_path)"
      ]
    }
  ],
  "metadata": {
    "accelerator": "GPU",
    "colab": {
      "gpuType": "T4",
      "provenance": []
    },
    "kernelspec": {
      "display_name": "Python 3",
      "name": "python3"
    },
    "language_info": {
      "codemirror_mode": {
        "name": "ipython",
        "version": 3
      },
      "file_extension": ".py",
      "mimetype": "text/x-python",
      "name": "python",
      "nbconvert_exporter": "python",
      "pygments_lexer": "ipython3",
      "version": "3.11.2"
    }
  },
  "nbformat": 4,
  "nbformat_minor": 5
}
