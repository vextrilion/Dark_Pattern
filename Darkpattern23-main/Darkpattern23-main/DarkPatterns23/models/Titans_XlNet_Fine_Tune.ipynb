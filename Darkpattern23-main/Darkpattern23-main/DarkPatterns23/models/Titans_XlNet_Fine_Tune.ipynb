{
  "cells": [
    {
      "cell_type": "code",
      "execution_count": 1,
      "id": "f6234900-7a7f-4e5f-b4d2-cb4e06d09300",
      "metadata": {
        "id": "f6234900-7a7f-4e5f-b4d2-cb4e06d09300"
      },
      "outputs": [],
      "source": [
        "from transformers import XLNetModel, AutoTokenizer, pipeline, XLNetForSequenceClassification\n",
        "import pandas as pd\n",
        "from torch.utils.data import Dataset\n",
        "import torch\n",
        "from sklearn.preprocessing import LabelEncoder"
      ]
    },
    {
      "cell_type": "code",
      "execution_count": 2,
      "id": "de6ea82c-8330-46b3-9a33-a7b51eecdadc",
      "metadata": {
        "colab": {
          "base_uri": "https://localhost:8080/",
          "height": 206
        },
        "id": "de6ea82c-8330-46b3-9a33-a7b51eecdadc",
        "outputId": "3390f2f8-43b5-418b-e9c8-7a13d6dfba61"
      },
      "outputs": [
        {
          "data": {
            "text/html": [
              "<div>\n",
              "<style scoped>\n",
              "    .dataframe tbody tr th:only-of-type {\n",
              "        vertical-align: middle;\n",
              "    }\n",
              "\n",
              "    .dataframe tbody tr th {\n",
              "        vertical-align: top;\n",
              "    }\n",
              "\n",
              "    .dataframe thead th {\n",
              "        text-align: right;\n",
              "    }\n",
              "</style>\n",
              "<table border=\"1\" class=\"dataframe\">\n",
              "  <thead>\n",
              "    <tr style=\"text-align: right;\">\n",
              "      <th></th>\n",
              "      <th>text</th>\n",
              "      <th>label</th>\n",
              "      <th>category</th>\n",
              "    </tr>\n",
              "  </thead>\n",
              "  <tbody>\n",
              "    <tr>\n",
              "      <th>0</th>\n",
              "      <td>FLASH SALE | LIMITED TIME ONLY Shop Now</td>\n",
              "      <td>1</td>\n",
              "      <td>Urgency</td>\n",
              "    </tr>\n",
              "    <tr>\n",
              "      <th>1</th>\n",
              "      <td>Pillowcases &amp; Shams</td>\n",
              "      <td>0</td>\n",
              "      <td>Not Dark Pattern</td>\n",
              "    </tr>\n",
              "    <tr>\n",
              "      <th>2</th>\n",
              "      <td>Write a review</td>\n",
              "      <td>0</td>\n",
              "      <td>Not Dark Pattern</td>\n",
              "    </tr>\n",
              "    <tr>\n",
              "      <th>3</th>\n",
              "      <td>To start your return, simply click on the foll...</td>\n",
              "      <td>0</td>\n",
              "      <td>Not Dark Pattern</td>\n",
              "    </tr>\n",
              "    <tr>\n",
              "      <th>4</th>\n",
              "      <td>newsletter signup (privacy policy)</td>\n",
              "      <td>0</td>\n",
              "      <td>Not Dark Pattern</td>\n",
              "    </tr>\n",
              "  </tbody>\n",
              "</table>\n",
              "</div>"
            ],
            "text/plain": [
              "                                                text label          category\n",
              "0            FLASH SALE | LIMITED TIME ONLY Shop Now     1           Urgency\n",
              "1                                Pillowcases & Shams     0  Not Dark Pattern\n",
              "2                                     Write a review     0  Not Dark Pattern\n",
              "3  To start your return, simply click on the foll...     0  Not Dark Pattern\n",
              "4                newsletter signup (privacy policy)      0  Not Dark Pattern"
            ]
          },
          "execution_count": 2,
          "metadata": {},
          "output_type": "execute_result"
        }
      ],
      "source": [
        "df = pd.read_csv(\"../dataset/cleaned_file.csv\")\n",
        "df.head()"
      ]
    },
    {
      "cell_type": "code",
      "execution_count": 3,
      "id": "adcc4cda-e0d9-4c52-b621-bd3875c6c33b",
      "metadata": {
        "id": "adcc4cda-e0d9-4c52-b621-bd3875c6c33b",
        "scrolled": true
      },
      "outputs": [],
      "source": [
        "df.drop(\"label\", axis=1, inplace=True)"
      ]
    },
    {
      "cell_type": "code",
      "execution_count": 4,
      "id": "78cfeb33-ab18-49e7-8c9c-e11e0e1af298",
      "metadata": {
        "colab": {
          "base_uri": "https://localhost:8080/",
          "height": 206
        },
        "id": "78cfeb33-ab18-49e7-8c9c-e11e0e1af298",
        "outputId": "19478982-51a9-4a28-c620-917af729cc9b"
      },
      "outputs": [
        {
          "data": {
            "text/html": [
              "<div>\n",
              "<style scoped>\n",
              "    .dataframe tbody tr th:only-of-type {\n",
              "        vertical-align: middle;\n",
              "    }\n",
              "\n",
              "    .dataframe tbody tr th {\n",
              "        vertical-align: top;\n",
              "    }\n",
              "\n",
              "    .dataframe thead th {\n",
              "        text-align: right;\n",
              "    }\n",
              "</style>\n",
              "<table border=\"1\" class=\"dataframe\">\n",
              "  <thead>\n",
              "    <tr style=\"text-align: right;\">\n",
              "      <th></th>\n",
              "      <th>text</th>\n",
              "      <th>category</th>\n",
              "    </tr>\n",
              "  </thead>\n",
              "  <tbody>\n",
              "    <tr>\n",
              "      <th>0</th>\n",
              "      <td>FLASH SALE | LIMITED TIME ONLY Shop Now</td>\n",
              "      <td>Urgency</td>\n",
              "    </tr>\n",
              "    <tr>\n",
              "      <th>1</th>\n",
              "      <td>Pillowcases &amp; Shams</td>\n",
              "      <td>Not Dark Pattern</td>\n",
              "    </tr>\n",
              "    <tr>\n",
              "      <th>2</th>\n",
              "      <td>Write a review</td>\n",
              "      <td>Not Dark Pattern</td>\n",
              "    </tr>\n",
              "    <tr>\n",
              "      <th>3</th>\n",
              "      <td>To start your return, simply click on the foll...</td>\n",
              "      <td>Not Dark Pattern</td>\n",
              "    </tr>\n",
              "    <tr>\n",
              "      <th>4</th>\n",
              "      <td>newsletter signup (privacy policy)</td>\n",
              "      <td>Not Dark Pattern</td>\n",
              "    </tr>\n",
              "  </tbody>\n",
              "</table>\n",
              "</div>"
            ],
            "text/plain": [
              "                                                text          category\n",
              "0            FLASH SALE | LIMITED TIME ONLY Shop Now           Urgency\n",
              "1                                Pillowcases & Shams  Not Dark Pattern\n",
              "2                                     Write a review  Not Dark Pattern\n",
              "3  To start your return, simply click on the foll...  Not Dark Pattern\n",
              "4                newsletter signup (privacy policy)   Not Dark Pattern"
            ]
          },
          "execution_count": 4,
          "metadata": {},
          "output_type": "execute_result"
        }
      ],
      "source": [
        "df.head()"
      ]
    },
    {
      "cell_type": "code",
      "execution_count": 5,
      "id": "0bf0e8c7-b52f-4cad-bdae-465ae2c13b85",
      "metadata": {
        "colab": {
          "base_uri": "https://localhost:8080/"
        },
        "id": "0bf0e8c7-b52f-4cad-bdae-465ae2c13b85",
        "outputId": "3f55096a-13b3-4e32-daf7-74429be67c9f"
      },
      "outputs": [
        {
          "data": {
            "text/plain": [
              "['Urgency',\n",
              " 'Not Dark Pattern',\n",
              " 'Scarcity',\n",
              " 'Misdirection',\n",
              " 'Social Proof',\n",
              " 'Obstruction',\n",
              " 'Sneaking',\n",
              " 'Forced Action']"
            ]
          },
          "execution_count": 5,
          "metadata": {},
          "output_type": "execute_result"
        }
      ],
      "source": [
        "fine = df['category'].unique().tolist()\n",
        "fine = [s.strip() for s in fine]\n",
        "fine"
      ]
    },
    {
      "cell_type": "code",
      "execution_count": 6,
      "id": "936fed07-7d5e-4828-9f8c-4458a2c3cbdc",
      "metadata": {
        "id": "936fed07-7d5e-4828-9f8c-4458a2c3cbdc"
      },
      "outputs": [],
      "source": [
        "num_fine = len(fine)\n",
        "id2fine = {id:fine for id, fine in enumerate(fine)}\n",
        "fine2id = {fine:id for id, fine in enumerate(fine)}"
      ]
    },
    {
      "cell_type": "code",
      "execution_count": 7,
      "id": "61b6ff83-5029-46e1-8055-09c831e9d3e3",
      "metadata": {
        "colab": {
          "base_uri": "https://localhost:8080/"
        },
        "id": "61b6ff83-5029-46e1-8055-09c831e9d3e3",
        "outputId": "6f9e5d8b-394e-471e-8102-6a3237949a20"
      },
      "outputs": [
        {
          "data": {
            "text/plain": [
              "{0: 'Urgency',\n",
              " 1: 'Not Dark Pattern',\n",
              " 2: 'Scarcity',\n",
              " 3: 'Misdirection',\n",
              " 4: 'Social Proof',\n",
              " 5: 'Obstruction',\n",
              " 6: 'Sneaking',\n",
              " 7: 'Forced Action'}"
            ]
          },
          "execution_count": 7,
          "metadata": {},
          "output_type": "execute_result"
        }
      ],
      "source": [
        "id2fine"
      ]
    },
    {
      "cell_type": "code",
      "execution_count": 8,
      "id": "268dc366-1f8e-4cef-be85-e9b005ffdb79",
      "metadata": {
        "colab": {
          "base_uri": "https://localhost:8080/"
        },
        "id": "268dc366-1f8e-4cef-be85-e9b005ffdb79",
        "outputId": "24c94b2a-5ad0-4640-991f-cdb6da6fcf8a"
      },
      "outputs": [
        {
          "data": {
            "text/plain": [
              "{'Urgency': 0,\n",
              " 'Not Dark Pattern': 1,\n",
              " 'Scarcity': 2,\n",
              " 'Misdirection': 3,\n",
              " 'Social Proof': 4,\n",
              " 'Obstruction': 5,\n",
              " 'Sneaking': 6,\n",
              " 'Forced Action': 7}"
            ]
          },
          "execution_count": 8,
          "metadata": {},
          "output_type": "execute_result"
        }
      ],
      "source": [
        "fine2id"
      ]
    },
    {
      "cell_type": "code",
      "execution_count": 9,
      "id": "d643ae93-3f4f-491e-8116-080580020902",
      "metadata": {
        "colab": {
          "base_uri": "https://localhost:8080/",
          "height": 510
        },
        "id": "d643ae93-3f4f-491e-8116-080580020902",
        "outputId": "c7864af8-54af-44f8-8dcd-b929902b69ff"
      },
      "outputs": [
        {
          "data": {
            "text/html": [
              "<div>\n",
              "<style scoped>\n",
              "    .dataframe tbody tr th:only-of-type {\n",
              "        vertical-align: middle;\n",
              "    }\n",
              "\n",
              "    .dataframe tbody tr th {\n",
              "        vertical-align: top;\n",
              "    }\n",
              "\n",
              "    .dataframe thead th {\n",
              "        text-align: right;\n",
              "    }\n",
              "</style>\n",
              "<table border=\"1\" class=\"dataframe\">\n",
              "  <thead>\n",
              "    <tr style=\"text-align: right;\">\n",
              "      <th></th>\n",
              "      <th>text</th>\n",
              "      <th>category</th>\n",
              "      <th>labels</th>\n",
              "    </tr>\n",
              "  </thead>\n",
              "  <tbody>\n",
              "    <tr>\n",
              "      <th>0</th>\n",
              "      <td>FLASH SALE | LIMITED TIME ONLY Shop Now</td>\n",
              "      <td>Urgency</td>\n",
              "      <td>0</td>\n",
              "    </tr>\n",
              "    <tr>\n",
              "      <th>1</th>\n",
              "      <td>Pillowcases &amp; Shams</td>\n",
              "      <td>Not Dark Pattern</td>\n",
              "      <td>1</td>\n",
              "    </tr>\n",
              "    <tr>\n",
              "      <th>2</th>\n",
              "      <td>Write a review</td>\n",
              "      <td>Not Dark Pattern</td>\n",
              "      <td>1</td>\n",
              "    </tr>\n",
              "    <tr>\n",
              "      <th>3</th>\n",
              "      <td>To start your return, simply click on the foll...</td>\n",
              "      <td>Not Dark Pattern</td>\n",
              "      <td>1</td>\n",
              "    </tr>\n",
              "    <tr>\n",
              "      <th>4</th>\n",
              "      <td>newsletter signup (privacy policy)</td>\n",
              "      <td>Not Dark Pattern</td>\n",
              "      <td>1</td>\n",
              "    </tr>\n",
              "    <tr>\n",
              "      <th>...</th>\n",
              "      <td>...</td>\n",
              "      <td>...</td>\n",
              "      <td>...</td>\n",
              "    </tr>\n",
              "    <tr>\n",
              "      <th>3863</th>\n",
              "      <td>TWO FREE PILLOWS AND 30% OFF WITH PROMO CODE</td>\n",
              "      <td>Misdirection</td>\n",
              "      <td>3</td>\n",
              "    </tr>\n",
              "    <tr>\n",
              "      <th>3864</th>\n",
              "      <td>Compare at</td>\n",
              "      <td>Misdirection</td>\n",
              "      <td>3</td>\n",
              "    </tr>\n",
              "    <tr>\n",
              "      <th>3865</th>\n",
              "      <td>$132.90 $99.00</td>\n",
              "      <td>Misdirection</td>\n",
              "      <td>3</td>\n",
              "    </tr>\n",
              "    <tr>\n",
              "      <th>3866</th>\n",
              "      <td>This offer is only VALID if you add to cart now!</td>\n",
              "      <td>Misdirection</td>\n",
              "      <td>3</td>\n",
              "    </tr>\n",
              "    <tr>\n",
              "      <th>3867</th>\n",
              "      <td>Save $148.98AUD â€“ 49% Off</td>\n",
              "      <td>Misdirection</td>\n",
              "      <td>3</td>\n",
              "    </tr>\n",
              "  </tbody>\n",
              "</table>\n",
              "<p>3868 rows × 3 columns</p>\n",
              "</div>"
            ],
            "text/plain": [
              "                                                   text          category  \\\n",
              "0               FLASH SALE | LIMITED TIME ONLY Shop Now           Urgency   \n",
              "1                                   Pillowcases & Shams  Not Dark Pattern   \n",
              "2                                        Write a review  Not Dark Pattern   \n",
              "3     To start your return, simply click on the foll...  Not Dark Pattern   \n",
              "4                   newsletter signup (privacy policy)   Not Dark Pattern   \n",
              "...                                                 ...               ...   \n",
              "3863       TWO FREE PILLOWS AND 30% OFF WITH PROMO CODE      Misdirection   \n",
              "3864                                         Compare at      Misdirection   \n",
              "3865                                     $132.90 $99.00      Misdirection   \n",
              "3866   This offer is only VALID if you add to cart now!      Misdirection   \n",
              "3867                        Save $148.98AUD â€“ 49% Off      Misdirection   \n",
              "\n",
              "      labels  \n",
              "0          0  \n",
              "1          1  \n",
              "2          1  \n",
              "3          1  \n",
              "4          1  \n",
              "...      ...  \n",
              "3863       3  \n",
              "3864       3  \n",
              "3865       3  \n",
              "3866       3  \n",
              "3867       3  \n",
              "\n",
              "[3868 rows x 3 columns]"
            ]
          },
          "execution_count": 9,
          "metadata": {},
          "output_type": "execute_result"
        }
      ],
      "source": [
        "df['labels'] = df.category.map(lambda x: fine2id[x.strip()])\n",
        "df"
      ]
    },
    {
      "cell_type": "code",
      "execution_count": 10,
      "id": "8cf4560a-2c12-4dfd-aced-31decdd7586e",
      "metadata": {
        "colab": {
          "base_uri": "https://localhost:8080/",
          "height": 596
        },
        "id": "8cf4560a-2c12-4dfd-aced-31decdd7586e",
        "outputId": "2a0a7204-9502-44b8-9874-327917c9ec07"
      },
      "outputs": [
        {
          "data": {
            "text/plain": [
              "<Axes: ylabel='category'>"
            ]
          },
          "execution_count": 10,
          "metadata": {},
          "output_type": "execute_result"
        },
        {
          "data": {
            "image/png": "[encoded data removed]",
            "text/plain": [
              "<Figure size 800x800 with 1 Axes>"
            ]
          },
          "metadata": {},
          "output_type": "display_data"
        }
      ],
      "source": [
        "df.category.value_counts().plot(kind=\"pie\", figsize=(8,8))"
      ]
    },
    {
      "cell_type": "code",
      "execution_count": 11,
      "id": "e5b0d32d-dddd-48fc-a210-1ac44d05289a",
      "metadata": {
        "colab": {
          "base_uri": "https://localhost:8080/"
        },
        "id": "e5b0d32d-dddd-48fc-a210-1ac44d05289a",
        "outputId": "38139b58-a5db-442d-bc5f-48d4f55854bd"
      },
      "outputs": [],
      "source": [
        "tokenizer = AutoTokenizer.from_pretrained(\"xlnet-base-cased\")"
      ]
    },
    {
      "cell_type": "code",
      "execution_count": 12,
      "id": "60786b6d-f832-4f0e-b74e-48d037253d3a",
      "metadata": {
        "colab": {
          "base_uri": "https://localhost:8080/"
        },
        "id": "60786b6d-f832-4f0e-b74e-48d037253d3a",
        "outputId": "887ac3c9-78c5-422f-e52a-99f910d029ad"
      },
      "outputs": [
        {
          "name": "stderr",
          "output_type": "stream",
          "text": [
            "c:\\Users\\sj210\\AppData\\Local\\Programs\\Python\\Python311\\Lib\\site-packages\\torch\\_utils.py:776: UserWarning: TypedStorage is deprecated. It will be removed in the future and UntypedStorage will be the only storage class. This should only matter to you if you are using storages directly.  To access UntypedStorage directly, use tensor.untyped_storage() instead of tensor.storage()\n",
            "  return self.fget.__get__(instance, owner)()\n",
            "Some weights of XLNetForSequenceClassification were not initialized from the model checkpoint at xlnet-base-cased and are newly initialized: ['logits_proj.bias', 'logits_proj.weight', 'sequence_summary.summary.bias', 'sequence_summary.summary.weight']\n",
            "You should probably TRAIN this model on a down-stream task to be able to use it for predictions and inference.\n"
          ]
        },
        {
          "data": {
            "text/plain": [
              "XLNetForSequenceClassification(\n",
              "  (transformer): XLNetModel(\n",
              "    (word_embedding): Embedding(32000, 768)\n",
              "    (layer): ModuleList(\n",
              "      (0-11): 12 x XLNetLayer(\n",
              "        (rel_attn): XLNetRelativeAttention(\n",
              "          (layer_norm): LayerNorm((768,), eps=1e-12, elementwise_affine=True)\n",
              "          (dropout): Dropout(p=0.1, inplace=False)\n",
              "        )\n",
              "        (ff): XLNetFeedForward(\n",
              "          (layer_norm): LayerNorm((768,), eps=1e-12, elementwise_affine=True)\n",
              "          (layer_1): Linear(in_features=768, out_features=3072, bias=True)\n",
              "          (layer_2): Linear(in_features=3072, out_features=768, bias=True)\n",
              "          (dropout): Dropout(p=0.1, inplace=False)\n",
              "          (activation_function): GELUActivation()\n",
              "        )\n",
              "        (dropout): Dropout(p=0.1, inplace=False)\n",
              "      )\n",
              "    )\n",
              "    (dropout): Dropout(p=0.1, inplace=False)\n",
              "  )\n",
              "  (sequence_summary): SequenceSummary(\n",
              "    (summary): Linear(in_features=768, out_features=768, bias=True)\n",
              "    (activation): Tanh()\n",
              "    (first_dropout): Identity()\n",
              "    (last_dropout): Dropout(p=0.1, inplace=False)\n",
              "  )\n",
              "  (logits_proj): Linear(in_features=768, out_features=8, bias=True)\n",
              ")"
            ]
          },
          "execution_count": 12,
          "metadata": {},
          "output_type": "execute_result"
        }
      ],
      "source": [
        "model = XLNetForSequenceClassification.from_pretrained(\"xlnet-base-cased\", num_labels=num_fine, id2label=id2fine, label2id=fine2id)\n",
        "\n",
        "device = torch.device(\"cuda:0\" if torch.cuda.is_available() else \"cpu\")\n",
        "model.to(device)"
      ]
    },
    {
      "cell_type": "code",
      "execution_count": 13,
      "id": "e804fe56-fac2-4159-816f-fdef74017226",
      "metadata": {
        "id": "e804fe56-fac2-4159-816f-fdef74017226"
      },
      "outputs": [],
      "source": [
        "SIZE = df.shape[0]\n",
        "train_texts = list(df.text[:SIZE//2])\n",
        "val_texts = list(df.text[SIZE//2:(3*SIZE)//4])\n",
        "test_texts = list(df.text[(3*SIZE)//4:])\n",
        "train_labels = list(df.labels[:SIZE//2])\n",
        "val_labels = list(df.labels[SIZE//2:(3*SIZE)//4])\n",
        "test_labels = list(df.labels[(3*SIZE)//4:])"
      ]
    },
    {
      "cell_type": "code",
      "execution_count": 14,
      "id": "74ddb62f-1358-46f6-859b-489723c258a8",
      "metadata": {
        "colab": {
          "base_uri": "https://localhost:8080/"
        },
        "id": "74ddb62f-1358-46f6-859b-489723c258a8",
        "outputId": "5163b887-3a54-41f2-856e-94bec1454fde"
      },
      "outputs": [
        {
          "data": {
            "text/plain": [
              "(1934, 967, 967)"
            ]
          },
          "execution_count": 14,
          "metadata": {},
          "output_type": "execute_result"
        }
      ],
      "source": [
        "len(train_texts), len(val_texts), len(test_texts)"
      ]
    },
    {
      "cell_type": "code",
      "execution_count": 15,
      "id": "d9c54fde-d74d-49c9-b840-26cb6fc8dbaf",
      "metadata": {
        "colab": {
          "base_uri": "https://localhost:8080/"
        },
        "id": "d9c54fde-d74d-49c9-b840-26cb6fc8dbaf",
        "outputId": "f6e4adac-dbb4-49eb-9cf3-fb9289e8119b"
      },
      "outputs": [
        {
          "name": "stderr",
          "output_type": "stream",
          "text": [
            "Asking to truncate to max_length but no maximum length is provided and the model has no predefined maximum length. Default to no truncation.\n"
          ]
        }
      ],
      "source": [
        "train_encodings = tokenizer(train_texts, truncation=True, padding=True)\n",
        "val_encodings = tokenizer(val_texts, truncation=True, padding=True)\n",
        "test_encodings = tokenizer(test_texts, truncation=True, padding=True)"
      ]
    },
    {
      "cell_type": "code",
      "execution_count": 16,
      "id": "5cd85d78-f2f2-4b54-a7ba-ec84ad78e68f",
      "metadata": {
        "id": "5cd85d78-f2f2-4b54-a7ba-ec84ad78e68f"
      },
      "outputs": [],
      "source": [
        "class Dataloader(Dataset):\n",
        "    def __init__(self, encodings, labels):\n",
        "        self.encodings = encodings\n",
        "        self.labels = labels\n",
        "\n",
        "    def __getitem__(self, idx):\n",
        "        item = {key: torch.tensor(val[idx]) for key, val in self.encodings.items()}\n",
        "        item['labels'] = torch.tensor(self.labels[idx])\n",
        "        return item\n",
        "\n",
        "    def __len__(self):\n",
        "        return len(self.labels)"
      ]
    },
    {
      "cell_type": "code",
      "execution_count": 17,
      "id": "788fdc3d-c5f7-4831-b357-c67af8fe409d",
      "metadata": {
        "id": "788fdc3d-c5f7-4831-b357-c67af8fe409d"
      },
      "outputs": [],
      "source": [
        "train_dataloader = Dataloader(train_encodings, train_labels)\n",
        "val_dataloader = Dataloader(val_encodings, val_labels)\n",
        "test_dataloader = Dataloader(test_encodings, test_labels)"
      ]
    },
    {
      "cell_type": "code",
      "execution_count": 18,
      "id": "b8e73e2c-367b-4148-960f-35088870339f",
      "metadata": {
        "id": "b8e73e2c-367b-4148-960f-35088870339f"
      },
      "outputs": [],
      "source": [
        "from transformers import TrainingArguments, Trainer"
      ]
    },
    {
      "cell_type": "code",
      "execution_count": 19,
      "id": "a0a39d98-32d8-47f9-a726-0d39287f7716",
      "metadata": {
        "id": "a0a39d98-32d8-47f9-a726-0d39287f7716"
      },
      "outputs": [],
      "source": [
        "from sklearn.metrics import accuracy_score, precision_recall_fscore_support\n",
        "\n",
        "def compute_metrics(pred):\n",
        "    labels = pred.label_ids\n",
        "\n",
        "    # Obtain predicted class labels by finding the column index with the maximum probability\n",
        "    preds = pred.predictions.argmax(-1)\n",
        "\n",
        "    # Compute macro precision, recall, and F1 score using sklearn's precision_recall_fscore_support function\n",
        "    precision, recall, f1, _ = precision_recall_fscore_support(labels, preds, average='macro')\n",
        "\n",
        "    # Calculate the accuracy score using sklearn's accuracy_score function\n",
        "    acc = accuracy_score(labels, preds)\n",
        "\n",
        "    # Return the computed metrics as a dictionary\n",
        "    return {\n",
        "        'Accuracy': acc,\n",
        "        'F1': f1,\n",
        "        'Precision': precision,\n",
        "        'Recall': recall\n",
        "    }"
      ]
    },
    {
      "cell_type": "code",
      "execution_count": 20,
      "id": "1d10a2a3-1941-4acf-992a-c8997709bf7f",
      "metadata": {
        "colab": {
          "base_uri": "https://localhost:8080/"
        },
        "id": "1d10a2a3-1941-4acf-992a-c8997709bf7f",
        "outputId": "10b0e99f-ff7e-4f66-ff37-4ac60756b23e"
      },
      "outputs": [
        {
          "name": "stdout",
          "output_type": "stream",
          "text": [
            "Requirement already satisfied: transformers[torch] in c:\\users\\sj210\\appdata\\local\\programs\\python\\python311\\lib\\site-packages (4.37.2)\n",
            "Requirement already satisfied: filelock in c:\\users\\sj210\\appdata\\local\\programs\\python\\python311\\lib\\site-packages (from transformers[torch]) (3.10.7)\n",
            "Requirement already satisfied: huggingface-hub<1.0,>=0.19.3 in c:\\users\\sj210\\appdata\\local\\programs\\python\\python311\\lib\\site-packages (from transformers[torch]) (0.20.3)\n",
            "Requirement already satisfied: numpy>=1.17 in c:\\users\\sj210\\appdata\\local\\programs\\python\\python311\\lib\\site-packages (from transformers[torch]) (1.23.5)\n",
            "Requirement already satisfied: packaging>=20.0 in c:\\users\\sj210\\appdata\\local\\programs\\python\\python311\\lib\\site-packages (from transformers[torch]) (23.0)\n",
            "Requirement already satisfied: pyyaml>=5.1 in c:\\users\\sj210\\appdata\\local\\programs\\python\\python311\\lib\\site-packages (from transformers[torch]) (6.0)\n",
            "Requirement already satisfied: regex!=2019.12.17 in c:\\users\\sj210\\appdata\\local\\programs\\python\\python311\\lib\\site-packages (from transformers[torch]) (2023.3.23)\n",
            "Requirement already satisfied: requests in c:\\users\\sj210\\appdata\\local\\programs\\python\\python311\\lib\\site-packages (from transformers[torch]) (2.28.2)\n",
            "Requirement already satisfied: tokenizers<0.19,>=0.14 in c:\\users\\sj210\\appdata\\local\\programs\\python\\python311\\lib\\site-packages (from transformers[torch]) (0.15.1)\n",
            "Requirement already satisfied: safetensors>=0.4.1 in c:\\users\\sj210\\appdata\\local\\programs\\python\\python311\\lib\\site-packages (from transformers[torch]) (0.4.2)\n",
            "Requirement already satisfied: tqdm>=4.27 in c:\\users\\sj210\\appdata\\local\\programs\\python\\python311\\lib\\site-packages (from transformers[torch]) (4.65.0)\n",
            "Requirement already satisfied: torch!=1.12.0,>=1.11 in c:\\users\\sj210\\appdata\\local\\programs\\python\\python311\\lib\\site-packages (from transformers[torch]) (2.0.0+cu118)\n",
            "Requirement already satisfied: accelerate>=0.21.0 in c:\\users\\sj210\\appdata\\local\\programs\\python\\python311\\lib\\site-packages (from transformers[torch]) (0.26.1)\n",
            "Requirement already satisfied: psutil in c:\\users\\sj210\\appdata\\local\\programs\\python\\python311\\lib\\site-packages (from accelerate>=0.21.0->transformers[torch]) (5.9.4)\n",
            "Requirement already satisfied: fsspec>=2023.5.0 in c:\\users\\sj210\\appdata\\local\\programs\\python\\python311\\lib\\site-packages (from huggingface-hub<1.0,>=0.19.3->transformers[torch]) (2024.2.0)\n",
            "Requirement already satisfied: typing-extensions>=3.7.4.3 in c:\\users\\sj210\\appdata\\local\\programs\\python\\python311\\lib\\site-packages (from huggingface-hub<1.0,>=0.19.3->transformers[torch]) (4.5.0)\n",
            "Requirement already satisfied: sympy in c:\\users\\sj210\\appdata\\local\\programs\\python\\python311\\lib\\site-packages (from torch!=1.12.0,>=1.11->transformers[torch]) (1.11.1)\n",
            "Requirement already satisfied: networkx in c:\\users\\sj210\\appdata\\local\\programs\\python\\python311\\lib\\site-packages (from torch!=1.12.0,>=1.11->transformers[torch]) (3.0)\n",
            "Requirement already satisfied: jinja2 in c:\\users\\sj210\\appdata\\local\\programs\\python\\python311\\lib\\site-packages (from torch!=1.12.0,>=1.11->transformers[torch]) (3.1.2)\n",
            "Requirement already satisfied: colorama in c:\\users\\sj210\\appdata\\local\\programs\\python\\python311\\lib\\site-packages (from tqdm>=4.27->transformers[torch]) (0.4.6)\n",
            "Requirement already satisfied: charset-normalizer<4,>=2 in c:\\users\\sj210\\appdata\\local\\programs\\python\\python311\\lib\\site-packages (from requests->transformers[torch]) (3.0.1)\n",
            "Requirement already satisfied: idna<4,>=2.5 in c:\\users\\sj210\\appdata\\local\\programs\\python\\python311\\lib\\site-packages (from requests->transformers[torch]) (2.10)\n",
            "Requirement already satisfied: urllib3<1.27,>=1.21.1 in c:\\users\\sj210\\appdata\\local\\programs\\python\\python311\\lib\\site-packages (from requests->transformers[torch]) (1.26.14)\n",
            "Requirement already satisfied: certifi>=2017.4.17 in c:\\users\\sj210\\appdata\\local\\programs\\python\\python311\\lib\\site-packages (from requests->transformers[torch]) (2022.12.7)\n",
            "Requirement already satisfied: MarkupSafe>=2.0 in c:\\users\\sj210\\appdata\\local\\programs\\python\\python311\\lib\\site-packages (from jinja2->torch!=1.12.0,>=1.11->transformers[torch]) (2.1.2)\n",
            "Requirement already satisfied: mpmath>=0.19 in c:\\users\\sj210\\appdata\\local\\programs\\python\\python311\\lib\\site-packages (from sympy->torch!=1.12.0,>=1.11->transformers[torch]) (1.3.0)\n",
            "Note: you may need to restart the kernel to use updated packages.\n"
          ]
        },
        {
          "name": "stderr",
          "output_type": "stream",
          "text": [
            "\n",
            "[notice] A new release of pip is available: 23.0.1 -> 24.0\n",
            "[notice] To update, run: python.exe -m pip install --upgrade pip\n"
          ]
        },
        {
          "name": "stdout",
          "output_type": "stream",
          "text": [
            "Note: you may need to restart the kernel to use updated packages.\n"
          ]
        },
        {
          "name": "stderr",
          "output_type": "stream",
          "text": [
            "ERROR: Invalid requirement: 'accelerate\\xa0-U'\n",
            "\n",
            "[notice] A new release of pip is available: 23.0.1 -> 24.0\n",
            "[notice] To update, run: python.exe -m pip install --upgrade pip\n"
          ]
        }
      ],
      "source": [
        "%pip install transformers[torch] -U\n",
        "%pip install accelerate -U\n"
      ]
    },
    {
      "cell_type": "code",
      "execution_count": 21,
      "id": "5e193672-2d5c-4dfd-8f31-14ed7ac0888f",
      "metadata": {
        "id": "5e193672-2d5c-4dfd-8f31-14ed7ac0888f"
      },
      "outputs": [],
      "source": [
        "training_args = TrainingArguments(\n",
        "    output_dir=\"./XlBERTModel\",\n",
        "    do_train=True,\n",
        "    do_eval=True,\n",
        "\n",
        "    num_train_epochs=3,\n",
        "    per_device_train_batch_size=4,\n",
        "    per_device_eval_batch_size=8,\n",
        "\n",
        "    warmup_steps=100,\n",
        "    weight_decay=0.01,\n",
        "    logging_strategy=\"steps\",\n",
        "\n",
        "    logging_dir=\"./multi-class-logs\",\n",
        "    logging_steps=50,\n",
        "    evaluation_strategy=\"steps\",\n",
        "    eval_steps=50,\n",
        "    save_strategy=\"steps\",\n",
        "    fp16=False,\n",
        "    load_best_model_at_end=True,\n",
        ")\n"
      ]
    },
    {
      "cell_type": "code",
      "execution_count": 22,
      "id": "80d74e68-a3f0-4e86-9da0-ff34d8119add",
      "metadata": {
        "id": "80d74e68-a3f0-4e86-9da0-ff34d8119add"
      },
      "outputs": [],
      "source": [
        "trainer = Trainer(\n",
        "    # the pre-trained model that will be fine-tuned\n",
        "    model=model,\n",
        "\n",
        "    # training arguments that we defined above\n",
        "    args=training_args,\n",
        "    train_dataset=train_dataloader,\n",
        "    eval_dataset=val_dataloader,\n",
        "    compute_metrics=compute_metrics\n",
        ")\n"
      ]
    },
    {
      "cell_type": "code",
      "execution_count": 23,
      "id": "39d3f13d-4da3-4732-b123-f09456b5521b",
      "metadata": {
        "colab": {
          "base_uri": "https://localhost:8080/",
          "height": 636
        },
        "id": "39d3f13d-4da3-4732-b123-f09456b5521b",
        "outputId": "40cf742a-8727-451e-caa2-dae352c8f0b7"
      },
      "outputs": [
        {
          "data": {
            "application/vnd.jupyter.widget-view+json": {
              "model_id": "7b78fae88e2c45e9bdf2b9c9cf0ebe5c",
              "version_major": 2,
              "version_minor": 0
            },
            "text/plain": [
              "  0%|          | 0/1452 [00:00<?, ?it/s]"
            ]
          },
          "metadata": {},
          "output_type": "display_data"
        },
        {
          "name": "stdout",
          "output_type": "stream",
          "text": [
            "{'loss': 1.8229, 'learning_rate': 2.5e-05, 'epoch': 0.1}\n"
          ]
        },
        {
          "data": {
            "application/vnd.jupyter.widget-view+json": {
              "model_id": "801fc22e94ca47178c0857c46b51b9cf",
              "version_major": 2,
              "version_minor": 0
            },
            "text/plain": [
              "  0%|          | 0/121 [00:00<?, ?it/s]"
            ]
          },
          "metadata": {},
          "output_type": "display_data"
        },
        {
          "name": "stderr",
          "output_type": "stream",
          "text": [
            "c:\\Users\\sj210\\AppData\\Local\\Programs\\Python\\Python311\\Lib\\site-packages\\sklearn\\metrics\\_classification.py:1344: UndefinedMetricWarning: Precision and F-score are ill-defined and being set to 0.0 in labels with no predicted samples. Use `zero_division` parameter to control this behavior.\n",
            "  _warn_prf(average, modifier, msg_start, len(result))\n"
          ]
        },
        {
          "name": "stdout",
          "output_type": "stream",
          "text": [
            "{'eval_loss': 2.0411086082458496, 'eval_Accuracy': 0.22233712512926576, 'eval_F1': 0.04547377326565143, 'eval_Precision': 0.02779214064115822, 'eval_Recall': 0.125, 'eval_runtime': 32.7401, 'eval_samples_per_second': 29.536, 'eval_steps_per_second': 3.696, 'epoch': 0.1}\n",
            "{'loss': 1.3052, 'learning_rate': 5e-05, 'epoch': 0.21}\n"
          ]
        },
        {
          "data": {
            "application/vnd.jupyter.widget-view+json": {
              "model_id": "d389d7514b7d4dffb66a432d6eea3cef",
              "version_major": 2,
              "version_minor": 0
            },
            "text/plain": [
              "  0%|          | 0/121 [00:00<?, ?it/s]"
            ]
          },
          "metadata": {},
          "output_type": "display_data"
        },
        {
          "name": "stderr",
          "output_type": "stream",
          "text": [
            "c:\\Users\\sj210\\AppData\\Local\\Programs\\Python\\Python311\\Lib\\site-packages\\sklearn\\metrics\\_classification.py:1344: UndefinedMetricWarning: Precision and F-score are ill-defined and being set to 0.0 in labels with no predicted samples. Use `zero_division` parameter to control this behavior.\n",
            "  _warn_prf(average, modifier, msg_start, len(result))\n"
          ]
        },
        {
          "name": "stdout",
          "output_type": "stream",
          "text": [
            "{'eval_loss': 1.4177279472351074, 'eval_Accuracy': 0.48810754912099275, 'eval_F1': 0.2742917490992024, 'eval_Precision': 0.3491415448891284, 'eval_Recall': 0.31348049434187014, 'eval_runtime': 32.4849, 'eval_samples_per_second': 29.768, 'eval_steps_per_second': 3.725, 'epoch': 0.21}\n",
            "{'loss': 0.7662, 'learning_rate': 4.81508875739645e-05, 'epoch': 0.31}\n"
          ]
        },
        {
          "data": {
            "application/vnd.jupyter.widget-view+json": {
              "model_id": "1231b9e68e644204b8b33bba755a790e",
              "version_major": 2,
              "version_minor": 0
            },
            "text/plain": [
              "  0%|          | 0/121 [00:00<?, ?it/s]"
            ]
          },
          "metadata": {},
          "output_type": "display_data"
        },
        {
          "name": "stderr",
          "output_type": "stream",
          "text": [
            "c:\\Users\\sj210\\AppData\\Local\\Programs\\Python\\Python311\\Lib\\site-packages\\sklearn\\metrics\\_classification.py:1344: UndefinedMetricWarning: Precision and F-score are ill-defined and being set to 0.0 in labels with no predicted samples. Use `zero_division` parameter to control this behavior.\n",
            "  _warn_prf(average, modifier, msg_start, len(result))\n"
          ]
        },
        {
          "name": "stdout",
          "output_type": "stream",
          "text": [
            "{'eval_loss': 0.6218994855880737, 'eval_Accuracy': 0.8169596690796277, 'eval_F1': 0.418617269622388, 'eval_Precision': 0.38663546084417777, 'eval_Recall': 0.46375182082819694, 'eval_runtime': 32.8265, 'eval_samples_per_second': 29.458, 'eval_steps_per_second': 3.686, 'epoch': 0.31}\n",
            "{'loss': 0.7695, 'learning_rate': 4.6301775147928994e-05, 'epoch': 0.41}\n"
          ]
        },
        {
          "data": {
            "application/vnd.jupyter.widget-view+json": {
              "model_id": "e5408e16ee174d8e8b86364a123ca7db",
              "version_major": 2,
              "version_minor": 0
            },
            "text/plain": [
              "  0%|          | 0/121 [00:00<?, ?it/s]"
            ]
          },
          "metadata": {},
          "output_type": "display_data"
        },
        {
          "name": "stderr",
          "output_type": "stream",
          "text": [
            "c:\\Users\\sj210\\AppData\\Local\\Programs\\Python\\Python311\\Lib\\site-packages\\sklearn\\metrics\\_classification.py:1344: UndefinedMetricWarning: Precision and F-score are ill-defined and being set to 0.0 in labels with no predicted samples. Use `zero_division` parameter to control this behavior.\n",
            "  _warn_prf(average, modifier, msg_start, len(result))\n"
          ]
        },
        {
          "name": "stdout",
          "output_type": "stream",
          "text": [
            "{'eval_loss': 0.4131852686405182, 'eval_Accuracy': 0.8934850051706308, 'eval_F1': 0.5497490241953674, 'eval_Precision': 0.535825795931407, 'eval_Recall': 0.5721179323902638, 'eval_runtime': 32.5912, 'eval_samples_per_second': 29.671, 'eval_steps_per_second': 3.713, 'epoch': 0.41}\n",
            "{'loss': 0.7265, 'learning_rate': 4.44526627218935e-05, 'epoch': 0.52}\n"
          ]
        },
        {
          "data": {
            "application/vnd.jupyter.widget-view+json": {
              "model_id": "c726584c5faf40b0a45f5d6c56d9556d",
              "version_major": 2,
              "version_minor": 0
            },
            "text/plain": [
              "  0%|          | 0/121 [00:00<?, ?it/s]"
            ]
          },
          "metadata": {},
          "output_type": "display_data"
        },
        {
          "name": "stderr",
          "output_type": "stream",
          "text": [
            "c:\\Users\\sj210\\AppData\\Local\\Programs\\Python\\Python311\\Lib\\site-packages\\sklearn\\metrics\\_classification.py:1344: UndefinedMetricWarning: Precision and F-score are ill-defined and being set to 0.0 in labels with no predicted samples. Use `zero_division` parameter to control this behavior.\n",
            "  _warn_prf(average, modifier, msg_start, len(result))\n"
          ]
        },
        {
          "name": "stdout",
          "output_type": "stream",
          "text": [
            "{'eval_loss': 0.3585790693759918, 'eval_Accuracy': 0.9348500517063082, 'eval_F1': 0.5777027131961571, 'eval_Precision': 0.57953906996544, 'eval_Recall': 0.5764359259796941, 'eval_runtime': 32.5662, 'eval_samples_per_second': 29.693, 'eval_steps_per_second': 3.716, 'epoch': 0.52}\n",
            "{'loss': 0.4221, 'learning_rate': 4.260355029585799e-05, 'epoch': 0.62}\n"
          ]
        },
        {
          "data": {
            "application/vnd.jupyter.widget-view+json": {
              "model_id": "b7f75ad2d3d146eba89069cdd062845a",
              "version_major": 2,
              "version_minor": 0
            },
            "text/plain": [
              "  0%|          | 0/121 [00:00<?, ?it/s]"
            ]
          },
          "metadata": {},
          "output_type": "display_data"
        },
        {
          "name": "stderr",
          "output_type": "stream",
          "text": [
            "c:\\Users\\sj210\\AppData\\Local\\Programs\\Python\\Python311\\Lib\\site-packages\\sklearn\\metrics\\_classification.py:1344: UndefinedMetricWarning: Precision and F-score are ill-defined and being set to 0.0 in labels with no predicted samples. Use `zero_division` parameter to control this behavior.\n",
            "  _warn_prf(average, modifier, msg_start, len(result))\n"
          ]
        },
        {
          "name": "stdout",
          "output_type": "stream",
          "text": [
            "{'eval_loss': 0.27242618799209595, 'eval_Accuracy': 0.9451913133402275, 'eval_F1': 0.5813035998964765, 'eval_Precision': 0.5931619222710025, 'eval_Recall': 0.576524240203451, 'eval_runtime': 32.5292, 'eval_samples_per_second': 29.727, 'eval_steps_per_second': 3.72, 'epoch': 0.62}\n",
            "{'loss': 0.3219, 'learning_rate': 4.075443786982249e-05, 'epoch': 0.72}\n"
          ]
        },
        {
          "data": {
            "application/vnd.jupyter.widget-view+json": {
              "model_id": "3877109e87dc48fe8b9bddad9d066493",
              "version_major": 2,
              "version_minor": 0
            },
            "text/plain": [
              "  0%|          | 0/121 [00:00<?, ?it/s]"
            ]
          },
          "metadata": {},
          "output_type": "display_data"
        },
        {
          "name": "stderr",
          "output_type": "stream",
          "text": [
            "c:\\Users\\sj210\\AppData\\Local\\Programs\\Python\\Python311\\Lib\\site-packages\\sklearn\\metrics\\_classification.py:1344: UndefinedMetricWarning: Precision and F-score are ill-defined and being set to 0.0 in labels with no predicted samples. Use `zero_division` parameter to control this behavior.\n",
            "  _warn_prf(average, modifier, msg_start, len(result))\n"
          ]
        },
        {
          "name": "stdout",
          "output_type": "stream",
          "text": [
            "{'eval_loss': 0.48634669184684753, 'eval_Accuracy': 0.9141675284384695, 'eval_F1': 0.65482214709229, 'eval_Precision': 0.6977931600610889, 'eval_Recall': 0.6294937035143224, 'eval_runtime': 32.7955, 'eval_samples_per_second': 29.486, 'eval_steps_per_second': 3.69, 'epoch': 0.72}\n",
            "{'loss': 0.4, 'learning_rate': 3.8905325443786985e-05, 'epoch': 0.83}\n"
          ]
        },
        {
          "data": {
            "application/vnd.jupyter.widget-view+json": {
              "model_id": "c82a21cc15ed40a7830bcda220f410cf",
              "version_major": 2,
              "version_minor": 0
            },
            "text/plain": [
              "  0%|          | 0/121 [00:00<?, ?it/s]"
            ]
          },
          "metadata": {},
          "output_type": "display_data"
        },
        {
          "name": "stderr",
          "output_type": "stream",
          "text": [
            "c:\\Users\\sj210\\AppData\\Local\\Programs\\Python\\Python311\\Lib\\site-packages\\sklearn\\metrics\\_classification.py:1344: UndefinedMetricWarning: Precision and F-score are ill-defined and being set to 0.0 in labels with no predicted samples. Use `zero_division` parameter to control this behavior.\n",
            "  _warn_prf(average, modifier, msg_start, len(result))\n"
          ]
        },
        {
          "name": "stdout",
          "output_type": "stream",
          "text": [
            "{'eval_loss': 0.4664516746997833, 'eval_Accuracy': 0.937952430196484, 'eval_F1': 0.677677022584354, 'eval_Precision': 0.687736017457102, 'eval_Recall': 0.6799032092155111, 'eval_runtime': 32.4605, 'eval_samples_per_second': 29.79, 'eval_steps_per_second': 3.728, 'epoch': 0.83}\n",
            "{'loss': 0.6595, 'learning_rate': 3.705621301775148e-05, 'epoch': 0.93}\n"
          ]
        },
        {
          "data": {
            "application/vnd.jupyter.widget-view+json": {
              "model_id": "1fb942baa8ba457694e691b4fb52884c",
              "version_major": 2,
              "version_minor": 0
            },
            "text/plain": [
              "  0%|          | 0/121 [00:00<?, ?it/s]"
            ]
          },
          "metadata": {},
          "output_type": "display_data"
        },
        {
          "name": "stderr",
          "output_type": "stream",
          "text": [
            "c:\\Users\\sj210\\AppData\\Local\\Programs\\Python\\Python311\\Lib\\site-packages\\sklearn\\metrics\\_classification.py:1344: UndefinedMetricWarning: Precision and F-score are ill-defined and being set to 0.0 in labels with no predicted samples. Use `zero_division` parameter to control this behavior.\n",
            "  _warn_prf(average, modifier, msg_start, len(result))\n"
          ]
        },
        {
          "name": "stdout",
          "output_type": "stream",
          "text": [
            "{'eval_loss': 0.2889283001422882, 'eval_Accuracy': 0.9482936918304034, 'eval_F1': 0.6708593369366175, 'eval_Precision': 0.6475390229316931, 'eval_Recall': 0.7186126443388691, 'eval_runtime': 32.9647, 'eval_samples_per_second': 29.334, 'eval_steps_per_second': 3.671, 'epoch': 0.93}\n",
            "{'loss': 0.327, 'learning_rate': 3.520710059171598e-05, 'epoch': 1.03}\n"
          ]
        },
        {
          "data": {
            "application/vnd.jupyter.widget-view+json": {
              "model_id": "509e59b6dc9f473290ea8b582508e5eb",
              "version_major": 2,
              "version_minor": 0
            },
            "text/plain": [
              "  0%|          | 0/121 [00:00<?, ?it/s]"
            ]
          },
          "metadata": {},
          "output_type": "display_data"
        },
        {
          "name": "stderr",
          "output_type": "stream",
          "text": [
            "c:\\Users\\sj210\\AppData\\Local\\Programs\\Python\\Python311\\Lib\\site-packages\\sklearn\\metrics\\_classification.py:1344: UndefinedMetricWarning: Precision and F-score are ill-defined and being set to 0.0 in labels with no predicted samples. Use `zero_division` parameter to control this behavior.\n",
            "  _warn_prf(average, modifier, msg_start, len(result))\n"
          ]
        },
        {
          "name": "stdout",
          "output_type": "stream",
          "text": [
            "{'eval_loss': 0.28324759006500244, 'eval_Accuracy': 0.9576008273009308, 'eval_F1': 0.5999126549147245, 'eval_Precision': 0.5984959542820261, 'eval_Recall': 0.602472661606438, 'eval_runtime': 35.2277, 'eval_samples_per_second': 27.45, 'eval_steps_per_second': 3.435, 'epoch': 1.03}\n",
            "{'loss': 0.2185, 'learning_rate': 3.335798816568047e-05, 'epoch': 1.14}\n"
          ]
        },
        {
          "data": {
            "application/vnd.jupyter.widget-view+json": {
              "model_id": "9f77ff14335d4b288450daba14876852",
              "version_major": 2,
              "version_minor": 0
            },
            "text/plain": [
              "  0%|          | 0/121 [00:00<?, ?it/s]"
            ]
          },
          "metadata": {},
          "output_type": "display_data"
        },
        {
          "name": "stderr",
          "output_type": "stream",
          "text": [
            "c:\\Users\\sj210\\AppData\\Local\\Programs\\Python\\Python311\\Lib\\site-packages\\sklearn\\metrics\\_classification.py:1344: UndefinedMetricWarning: Precision and F-score are ill-defined and being set to 0.0 in labels with no predicted samples. Use `zero_division` parameter to control this behavior.\n",
            "  _warn_prf(average, modifier, msg_start, len(result))\n"
          ]
        },
        {
          "name": "stdout",
          "output_type": "stream",
          "text": [
            "{'eval_loss': 0.2854589521884918, 'eval_Accuracy': 0.9586349534643226, 'eval_F1': 0.6979841000104057, 'eval_Precision': 0.7127442229599243, 'eval_Recall': 0.6900651434166831, 'eval_runtime': 36.4518, 'eval_samples_per_second': 26.528, 'eval_steps_per_second': 3.319, 'epoch': 1.14}\n",
            "{'loss': 0.3884, 'learning_rate': 3.150887573964497e-05, 'epoch': 1.24}\n"
          ]
        },
        {
          "data": {
            "application/vnd.jupyter.widget-view+json": {
              "model_id": "4a7fcdd6ac7348f69e84724e21daa9c4",
              "version_major": 2,
              "version_minor": 0
            },
            "text/plain": [
              "  0%|          | 0/121 [00:00<?, ?it/s]"
            ]
          },
          "metadata": {},
          "output_type": "display_data"
        },
        {
          "name": "stderr",
          "output_type": "stream",
          "text": [
            "c:\\Users\\sj210\\AppData\\Local\\Programs\\Python\\Python311\\Lib\\site-packages\\sklearn\\metrics\\_classification.py:1344: UndefinedMetricWarning: Precision and F-score are ill-defined and being set to 0.0 in labels with no predicted samples. Use `zero_division` parameter to control this behavior.\n",
            "  _warn_prf(average, modifier, msg_start, len(result))\n"
          ]
        },
        {
          "name": "stdout",
          "output_type": "stream",
          "text": [
            "{'eval_loss': 0.25525322556495667, 'eval_Accuracy': 0.9607032057911065, 'eval_F1': 0.7043584074944587, 'eval_Precision': 0.6843196804437114, 'eval_Recall': 0.7295136303443156, 'eval_runtime': 32.7988, 'eval_samples_per_second': 29.483, 'eval_steps_per_second': 3.689, 'epoch': 1.24}\n",
            "{'loss': 0.1417, 'learning_rate': 2.965976331360947e-05, 'epoch': 1.34}\n"
          ]
        },
        {
          "data": {
            "application/vnd.jupyter.widget-view+json": {
              "model_id": "63d6fd2dcd594635b15a4cf1e87f47ba",
              "version_major": 2,
              "version_minor": 0
            },
            "text/plain": [
              "  0%|          | 0/121 [00:00<?, ?it/s]"
            ]
          },
          "metadata": {},
          "output_type": "display_data"
        },
        {
          "name": "stderr",
          "output_type": "stream",
          "text": [
            "c:\\Users\\sj210\\AppData\\Local\\Programs\\Python\\Python311\\Lib\\site-packages\\sklearn\\metrics\\_classification.py:1344: UndefinedMetricWarning: Precision and F-score are ill-defined and being set to 0.0 in labels with no predicted samples. Use `zero_division` parameter to control this behavior.\n",
            "  _warn_prf(average, modifier, msg_start, len(result))\n"
          ]
        },
        {
          "name": "stdout",
          "output_type": "stream",
          "text": [
            "{'eval_loss': 0.22032350301742554, 'eval_Accuracy': 0.9648397104446742, 'eval_F1': 0.7090769133273663, 'eval_Precision': 0.6942128369902048, 'eval_Recall': 0.7278343513811747, 'eval_runtime': 32.697, 'eval_samples_per_second': 29.575, 'eval_steps_per_second': 3.701, 'epoch': 1.34}\n",
            "{'loss': 0.3129, 'learning_rate': 2.7810650887573965e-05, 'epoch': 1.45}\n"
          ]
        },
        {
          "data": {
            "application/vnd.jupyter.widget-view+json": {
              "model_id": "0970c70d41fc4ec3971f98e6d2671399",
              "version_major": 2,
              "version_minor": 0
            },
            "text/plain": [
              "  0%|          | 0/121 [00:00<?, ?it/s]"
            ]
          },
          "metadata": {},
          "output_type": "display_data"
        },
        {
          "name": "stderr",
          "output_type": "stream",
          "text": [
            "c:\\Users\\sj210\\AppData\\Local\\Programs\\Python\\Python311\\Lib\\site-packages\\sklearn\\metrics\\_classification.py:1344: UndefinedMetricWarning: Precision and F-score are ill-defined and being set to 0.0 in labels with no predicted samples. Use `zero_division` parameter to control this behavior.\n",
            "  _warn_prf(average, modifier, msg_start, len(result))\n"
          ]
        },
        {
          "name": "stdout",
          "output_type": "stream",
          "text": [
            "{'eval_loss': 0.2157454639673233, 'eval_Accuracy': 0.9689762150982419, 'eval_F1': 0.6951442707716109, 'eval_Precision': 0.6748995636108848, 'eval_Recall': 0.7291386515128113, 'eval_runtime': 32.595, 'eval_samples_per_second': 29.667, 'eval_steps_per_second': 3.712, 'epoch': 1.45}\n",
            "{'loss': 0.3211, 'learning_rate': 2.5961538461538464e-05, 'epoch': 1.55}\n"
          ]
        },
        {
          "data": {
            "application/vnd.jupyter.widget-view+json": {
              "model_id": "df50dbd4ff1b4713944fadf9eef97113",
              "version_major": 2,
              "version_minor": 0
            },
            "text/plain": [
              "  0%|          | 0/121 [00:00<?, ?it/s]"
            ]
          },
          "metadata": {},
          "output_type": "display_data"
        },
        {
          "name": "stderr",
          "output_type": "stream",
          "text": [
            "c:\\Users\\sj210\\AppData\\Local\\Programs\\Python\\Python311\\Lib\\site-packages\\sklearn\\metrics\\_classification.py:1344: UndefinedMetricWarning: Precision and F-score are ill-defined and being set to 0.0 in labels with no predicted samples. Use `zero_division` parameter to control this behavior.\n",
            "  _warn_prf(average, modifier, msg_start, len(result))\n"
          ]
        },
        {
          "name": "stdout",
          "output_type": "stream",
          "text": [
            "{'eval_loss': 0.24000579118728638, 'eval_Accuracy': 0.9617373319544984, 'eval_F1': 0.7013868912249586, 'eval_Precision': 0.6957380551384367, 'eval_Recall': 0.7092259740544555, 'eval_runtime': 32.7899, 'eval_samples_per_second': 29.491, 'eval_steps_per_second': 3.69, 'epoch': 1.55}\n",
            "{'loss': 0.401, 'learning_rate': 2.411242603550296e-05, 'epoch': 1.65}\n"
          ]
        },
        {
          "data": {
            "application/vnd.jupyter.widget-view+json": {
              "model_id": "bdfaff10a6e14063bb9386b0875c1ee0",
              "version_major": 2,
              "version_minor": 0
            },
            "text/plain": [
              "  0%|          | 0/121 [00:00<?, ?it/s]"
            ]
          },
          "metadata": {},
          "output_type": "display_data"
        },
        {
          "name": "stderr",
          "output_type": "stream",
          "text": [
            "c:\\Users\\sj210\\AppData\\Local\\Programs\\Python\\Python311\\Lib\\site-packages\\sklearn\\metrics\\_classification.py:1344: UndefinedMetricWarning: Precision and F-score are ill-defined and being set to 0.0 in labels with no predicted samples. Use `zero_division` parameter to control this behavior.\n",
            "  _warn_prf(average, modifier, msg_start, len(result))\n"
          ]
        },
        {
          "name": "stdout",
          "output_type": "stream",
          "text": [
            "{'eval_loss': 0.24523209035396576, 'eval_Accuracy': 0.9627714581178903, 'eval_F1': 0.6961115983634263, 'eval_Precision': 0.6782696713529204, 'eval_Recall': 0.7242473795057426, 'eval_runtime': 33.931, 'eval_samples_per_second': 28.499, 'eval_steps_per_second': 3.566, 'epoch': 1.65}\n",
            "{'loss': 0.279, 'learning_rate': 2.2263313609467456e-05, 'epoch': 1.76}\n"
          ]
        },
        {
          "data": {
            "application/vnd.jupyter.widget-view+json": {
              "model_id": "339ffb0a3fad4c67be6181d0ec4f1cb7",
              "version_major": 2,
              "version_minor": 0
            },
            "text/plain": [
              "  0%|          | 0/121 [00:00<?, ?it/s]"
            ]
          },
          "metadata": {},
          "output_type": "display_data"
        },
        {
          "name": "stderr",
          "output_type": "stream",
          "text": [
            "c:\\Users\\sj210\\AppData\\Local\\Programs\\Python\\Python311\\Lib\\site-packages\\sklearn\\metrics\\_classification.py:1344: UndefinedMetricWarning: Precision and F-score are ill-defined and being set to 0.0 in labels with no predicted samples. Use `zero_division` parameter to control this behavior.\n",
            "  _warn_prf(average, modifier, msg_start, len(result))\n"
          ]
        },
        {
          "name": "stdout",
          "output_type": "stream",
          "text": [
            "{'eval_loss': 0.2290949821472168, 'eval_Accuracy': 0.9689762150982419, 'eval_F1': 0.710038051239947, 'eval_Precision': 0.7063080174800329, 'eval_Recall': 0.7139190591780294, 'eval_runtime': 34.0956, 'eval_samples_per_second': 28.361, 'eval_steps_per_second': 3.549, 'epoch': 1.76}\n",
            "{'loss': 0.3125, 'learning_rate': 2.0414201183431952e-05, 'epoch': 1.86}\n"
          ]
        },
        {
          "data": {
            "application/vnd.jupyter.widget-view+json": {
              "model_id": "f0aacd0d4d8840b2abaa5ae789e2c8f6",
              "version_major": 2,
              "version_minor": 0
            },
            "text/plain": [
              "  0%|          | 0/121 [00:00<?, ?it/s]"
            ]
          },
          "metadata": {},
          "output_type": "display_data"
        },
        {
          "name": "stderr",
          "output_type": "stream",
          "text": [
            "c:\\Users\\sj210\\AppData\\Local\\Programs\\Python\\Python311\\Lib\\site-packages\\sklearn\\metrics\\_classification.py:1344: UndefinedMetricWarning: Precision and F-score are ill-defined and being set to 0.0 in labels with no predicted samples. Use `zero_division` parameter to control this behavior.\n",
            "  _warn_prf(average, modifier, msg_start, len(result))\n"
          ]
        },
        {
          "name": "stdout",
          "output_type": "stream",
          "text": [
            "{'eval_loss': 0.2231772541999817, 'eval_Accuracy': 0.9669079627714581, 'eval_F1': 0.7097310793435827, 'eval_Precision': 0.711250098535996, 'eval_Recall': 0.7089257522992178, 'eval_runtime': 32.4518, 'eval_samples_per_second': 29.798, 'eval_steps_per_second': 3.729, 'epoch': 1.86}\n",
            "{'loss': 0.294, 'learning_rate': 1.856508875739645e-05, 'epoch': 1.96}\n"
          ]
        },
        {
          "data": {
            "application/vnd.jupyter.widget-view+json": {
              "model_id": "a309323724984a3e9072d0b0272d52d0",
              "version_major": 2,
              "version_minor": 0
            },
            "text/plain": [
              "  0%|          | 0/121 [00:00<?, ?it/s]"
            ]
          },
          "metadata": {},
          "output_type": "display_data"
        },
        {
          "name": "stderr",
          "output_type": "stream",
          "text": [
            "c:\\Users\\sj210\\AppData\\Local\\Programs\\Python\\Python311\\Lib\\site-packages\\sklearn\\metrics\\_classification.py:1344: UndefinedMetricWarning: Precision and F-score are ill-defined and being set to 0.0 in labels with no predicted samples. Use `zero_division` parameter to control this behavior.\n",
            "  _warn_prf(average, modifier, msg_start, len(result))\n"
          ]
        },
        {
          "name": "stdout",
          "output_type": "stream",
          "text": [
            "{'eval_loss': 0.2293274849653244, 'eval_Accuracy': 0.9700103412616339, 'eval_F1': 0.7131999264913138, 'eval_Precision': 0.7125306753040179, 'eval_Recall': 0.7140225953360415, 'eval_runtime': 32.1782, 'eval_samples_per_second': 30.051, 'eval_steps_per_second': 3.76, 'epoch': 1.96}\n",
            "{'loss': 0.1059, 'learning_rate': 1.6715976331360947e-05, 'epoch': 2.07}\n"
          ]
        },
        {
          "data": {
            "application/vnd.jupyter.widget-view+json": {
              "model_id": "7f2c96639bcd4cfe991842dd345958a2",
              "version_major": 2,
              "version_minor": 0
            },
            "text/plain": [
              "  0%|          | 0/121 [00:00<?, ?it/s]"
            ]
          },
          "metadata": {},
          "output_type": "display_data"
        },
        {
          "name": "stderr",
          "output_type": "stream",
          "text": [
            "c:\\Users\\sj210\\AppData\\Local\\Programs\\Python\\Python311\\Lib\\site-packages\\sklearn\\metrics\\_classification.py:1344: UndefinedMetricWarning: Precision and F-score are ill-defined and being set to 0.0 in labels with no predicted samples. Use `zero_division` parameter to control this behavior.\n",
            "  _warn_prf(average, modifier, msg_start, len(result))\n"
          ]
        },
        {
          "name": "stdout",
          "output_type": "stream",
          "text": [
            "{'eval_loss': 0.2402098923921585, 'eval_Accuracy': 0.9689762150982419, 'eval_F1': 0.7086306831509461, 'eval_Precision': 0.6902714811359228, 'eval_Recall': 0.7338941339898704, 'eval_runtime': 32.1158, 'eval_samples_per_second': 30.11, 'eval_steps_per_second': 3.768, 'epoch': 2.07}\n",
            "{'loss': 0.1747, 'learning_rate': 1.4866863905325445e-05, 'epoch': 2.17}\n"
          ]
        },
        {
          "data": {
            "application/vnd.jupyter.widget-view+json": {
              "model_id": "6ea87e3710644c669753813353fb0c38",
              "version_major": 2,
              "version_minor": 0
            },
            "text/plain": [
              "  0%|          | 0/121 [00:00<?, ?it/s]"
            ]
          },
          "metadata": {},
          "output_type": "display_data"
        },
        {
          "name": "stderr",
          "output_type": "stream",
          "text": [
            "c:\\Users\\sj210\\AppData\\Local\\Programs\\Python\\Python311\\Lib\\site-packages\\sklearn\\metrics\\_classification.py:1344: UndefinedMetricWarning: Precision and F-score are ill-defined and being set to 0.0 in labels with no predicted samples. Use `zero_division` parameter to control this behavior.\n",
            "  _warn_prf(average, modifier, msg_start, len(result))\n"
          ]
        },
        {
          "name": "stdout",
          "output_type": "stream",
          "text": [
            "{'eval_loss': 0.24635878205299377, 'eval_Accuracy': 0.9669079627714581, 'eval_F1': 0.7101803619092846, 'eval_Precision': 0.7110615824369204, 'eval_Recall': 0.7098497411311376, 'eval_runtime': 32.17, 'eval_samples_per_second': 30.059, 'eval_steps_per_second': 3.761, 'epoch': 2.17}\n",
            "{'loss': 0.1803, 'learning_rate': 1.3017751479289941e-05, 'epoch': 2.27}\n"
          ]
        },
        {
          "data": {
            "application/vnd.jupyter.widget-view+json": {
              "model_id": "58b212ba1cc44685adec7bf79e748b62",
              "version_major": 2,
              "version_minor": 0
            },
            "text/plain": [
              "  0%|          | 0/121 [00:00<?, ?it/s]"
            ]
          },
          "metadata": {},
          "output_type": "display_data"
        },
        {
          "name": "stderr",
          "output_type": "stream",
          "text": [
            "c:\\Users\\sj210\\AppData\\Local\\Programs\\Python\\Python311\\Lib\\site-packages\\sklearn\\metrics\\_classification.py:1344: UndefinedMetricWarning: Precision and F-score are ill-defined and being set to 0.0 in labels with no predicted samples. Use `zero_division` parameter to control this behavior.\n",
            "  _warn_prf(average, modifier, msg_start, len(result))\n"
          ]
        },
        {
          "name": "stdout",
          "output_type": "stream",
          "text": [
            "{'eval_loss': 0.21563509106636047, 'eval_Accuracy': 0.9689762150982419, 'eval_F1': 0.704635225302827, 'eval_Precision': 0.6968619684694806, 'eval_Recall': 0.7135165341880976, 'eval_runtime': 32.0992, 'eval_samples_per_second': 30.125, 'eval_steps_per_second': 3.77, 'epoch': 2.27}\n",
            "{'loss': 0.094, 'learning_rate': 1.1168639053254439e-05, 'epoch': 2.38}\n"
          ]
        },
        {
          "data": {
            "application/vnd.jupyter.widget-view+json": {
              "model_id": "d0af9b90f5354ec7aa675d1c5669d06c",
              "version_major": 2,
              "version_minor": 0
            },
            "text/plain": [
              "  0%|          | 0/121 [00:00<?, ?it/s]"
            ]
          },
          "metadata": {},
          "output_type": "display_data"
        },
        {
          "name": "stderr",
          "output_type": "stream",
          "text": [
            "c:\\Users\\sj210\\AppData\\Local\\Programs\\Python\\Python311\\Lib\\site-packages\\sklearn\\metrics\\_classification.py:1344: UndefinedMetricWarning: Precision and F-score are ill-defined and being set to 0.0 in labels with no predicted samples. Use `zero_division` parameter to control this behavior.\n",
            "  _warn_prf(average, modifier, msg_start, len(result))\n"
          ]
        },
        {
          "name": "stdout",
          "output_type": "stream",
          "text": [
            "{'eval_loss': 0.2200087159872055, 'eval_Accuracy': 0.9669079627714581, 'eval_F1': 0.7037278750291462, 'eval_Precision': 0.6951082358920695, 'eval_Recall': 0.7133450127490719, 'eval_runtime': 33.8918, 'eval_samples_per_second': 28.532, 'eval_steps_per_second': 3.57, 'epoch': 2.38}\n",
            "{'loss': 0.1279, 'learning_rate': 9.319526627218936e-06, 'epoch': 2.48}\n"
          ]
        },
        {
          "data": {
            "application/vnd.jupyter.widget-view+json": {
              "model_id": "06c5c2cd7abd44bfbe173fde99b6453a",
              "version_major": 2,
              "version_minor": 0
            },
            "text/plain": [
              "  0%|          | 0/121 [00:00<?, ?it/s]"
            ]
          },
          "metadata": {},
          "output_type": "display_data"
        },
        {
          "name": "stderr",
          "output_type": "stream",
          "text": [
            "c:\\Users\\sj210\\AppData\\Local\\Programs\\Python\\Python311\\Lib\\site-packages\\sklearn\\metrics\\_classification.py:1344: UndefinedMetricWarning: Precision and F-score are ill-defined and being set to 0.0 in labels with no predicted samples. Use `zero_division` parameter to control this behavior.\n",
            "  _warn_prf(average, modifier, msg_start, len(result))\n"
          ]
        },
        {
          "name": "stdout",
          "output_type": "stream",
          "text": [
            "{'eval_loss': 0.2172452211380005, 'eval_Accuracy': 0.9700103412616339, 'eval_F1': 0.7089558673402262, 'eval_Precision': 0.6924230395984353, 'eval_Recall': 0.7321696213596394, 'eval_runtime': 34.6938, 'eval_samples_per_second': 27.872, 'eval_steps_per_second': 3.488, 'epoch': 2.48}\n",
            "{'loss': 0.1425, 'learning_rate': 7.470414201183433e-06, 'epoch': 2.58}\n"
          ]
        },
        {
          "data": {
            "application/vnd.jupyter.widget-view+json": {
              "model_id": "91f5b55c17bf412f996ead569183b1d3",
              "version_major": 2,
              "version_minor": 0
            },
            "text/plain": [
              "  0%|          | 0/121 [00:00<?, ?it/s]"
            ]
          },
          "metadata": {},
          "output_type": "display_data"
        },
        {
          "name": "stderr",
          "output_type": "stream",
          "text": [
            "c:\\Users\\sj210\\AppData\\Local\\Programs\\Python\\Python311\\Lib\\site-packages\\sklearn\\metrics\\_classification.py:1344: UndefinedMetricWarning: Precision and F-score are ill-defined and being set to 0.0 in labels with no predicted samples. Use `zero_division` parameter to control this behavior.\n",
            "  _warn_prf(average, modifier, msg_start, len(result))\n"
          ]
        },
        {
          "name": "stdout",
          "output_type": "stream",
          "text": [
            "{'eval_loss': 0.21860143542289734, 'eval_Accuracy': 0.9700103412616339, 'eval_F1': 0.7080879215783193, 'eval_Precision': 0.6890914375930395, 'eval_Recall': 0.7340412747990452, 'eval_runtime': 34.087, 'eval_samples_per_second': 28.369, 'eval_steps_per_second': 3.55, 'epoch': 2.58}\n",
            "{'loss': 0.0801, 'learning_rate': 5.621301775147929e-06, 'epoch': 2.69}\n"
          ]
        },
        {
          "data": {
            "application/vnd.jupyter.widget-view+json": {
              "model_id": "bb2ccc31272f410b8846754af8c7d3bb",
              "version_major": 2,
              "version_minor": 0
            },
            "text/plain": [
              "  0%|          | 0/121 [00:00<?, ?it/s]"
            ]
          },
          "metadata": {},
          "output_type": "display_data"
        },
        {
          "name": "stderr",
          "output_type": "stream",
          "text": [
            "c:\\Users\\sj210\\AppData\\Local\\Programs\\Python\\Python311\\Lib\\site-packages\\sklearn\\metrics\\_classification.py:1344: UndefinedMetricWarning: Precision and F-score are ill-defined and being set to 0.0 in labels with no predicted samples. Use `zero_division` parameter to control this behavior.\n",
            "  _warn_prf(average, modifier, msg_start, len(result))\n"
          ]
        },
        {
          "name": "stdout",
          "output_type": "stream",
          "text": [
            "{'eval_loss': 0.22165095806121826, 'eval_Accuracy': 0.9689762150982419, 'eval_F1': 0.706819193999112, 'eval_Precision': 0.687257182704933, 'eval_Recall': 0.7334162747990451, 'eval_runtime': 33.9624, 'eval_samples_per_second': 28.473, 'eval_steps_per_second': 3.563, 'epoch': 2.69}\n",
            "{'loss': 0.1254, 'learning_rate': 3.772189349112426e-06, 'epoch': 2.79}\n"
          ]
        },
        {
          "data": {
            "application/vnd.jupyter.widget-view+json": {
              "model_id": "2dda1d5d724a4204ae13709efe09a7d5",
              "version_major": 2,
              "version_minor": 0
            },
            "text/plain": [
              "  0%|          | 0/121 [00:00<?, ?it/s]"
            ]
          },
          "metadata": {},
          "output_type": "display_data"
        },
        {
          "name": "stderr",
          "output_type": "stream",
          "text": [
            "c:\\Users\\sj210\\AppData\\Local\\Programs\\Python\\Python311\\Lib\\site-packages\\sklearn\\metrics\\_classification.py:1344: UndefinedMetricWarning: Precision and F-score are ill-defined and being set to 0.0 in labels with no predicted samples. Use `zero_division` parameter to control this behavior.\n",
            "  _warn_prf(average, modifier, msg_start, len(result))\n"
          ]
        },
        {
          "name": "stdout",
          "output_type": "stream",
          "text": [
            "{'eval_loss': 0.21351629495620728, 'eval_Accuracy': 0.9700103412616339, 'eval_F1': 0.7022859614195749, 'eval_Precision': 0.6831425518925518, 'eval_Recall': 0.7315717714254577, 'eval_runtime': 34.1684, 'eval_samples_per_second': 28.301, 'eval_steps_per_second': 3.541, 'epoch': 2.79}\n",
            "{'loss': 0.2345, 'learning_rate': 1.9230769230769234e-06, 'epoch': 2.89}\n"
          ]
        },
        {
          "data": {
            "application/vnd.jupyter.widget-view+json": {
              "model_id": "cae0184f0b244bc387bb419e7106cb12",
              "version_major": 2,
              "version_minor": 0
            },
            "text/plain": [
              "  0%|          | 0/121 [00:00<?, ?it/s]"
            ]
          },
          "metadata": {},
          "output_type": "display_data"
        },
        {
          "name": "stderr",
          "output_type": "stream",
          "text": [
            "c:\\Users\\sj210\\AppData\\Local\\Programs\\Python\\Python311\\Lib\\site-packages\\sklearn\\metrics\\_classification.py:1344: UndefinedMetricWarning: Precision and F-score are ill-defined and being set to 0.0 in labels with no predicted samples. Use `zero_division` parameter to control this behavior.\n",
            "  _warn_prf(average, modifier, msg_start, len(result))\n"
          ]
        },
        {
          "name": "stdout",
          "output_type": "stream",
          "text": [
            "{'eval_loss': 0.2192179262638092, 'eval_Accuracy': 0.96794208893485, 'eval_F1': 0.7000568952322972, 'eval_Precision': 0.6822896217550205, 'eval_Recall': 0.7279485830196606, 'eval_runtime': 33.0801, 'eval_samples_per_second': 29.232, 'eval_steps_per_second': 3.658, 'epoch': 2.89}\n",
            "{'loss': 0.1508, 'learning_rate': 7.396449704142013e-08, 'epoch': 3.0}\n"
          ]
        },
        {
          "data": {
            "application/vnd.jupyter.widget-view+json": {
              "model_id": "5133c2a869184644b60336191b603a13",
              "version_major": 2,
              "version_minor": 0
            },
            "text/plain": [
              "  0%|          | 0/121 [00:00<?, ?it/s]"
            ]
          },
          "metadata": {},
          "output_type": "display_data"
        },
        {
          "name": "stderr",
          "output_type": "stream",
          "text": [
            "c:\\Users\\sj210\\AppData\\Local\\Programs\\Python\\Python311\\Lib\\site-packages\\sklearn\\metrics\\_classification.py:1344: UndefinedMetricWarning: Precision and F-score are ill-defined and being set to 0.0 in labels with no predicted samples. Use `zero_division` parameter to control this behavior.\n",
            "  _warn_prf(average, modifier, msg_start, len(result))\n"
          ]
        },
        {
          "name": "stdout",
          "output_type": "stream",
          "text": [
            "{'eval_loss': 0.2175927311182022, 'eval_Accuracy': 0.9689762150982419, 'eval_F1': 0.7006561223567607, 'eval_Precision': 0.6828607564170917, 'eval_Recall': 0.7285735830196607, 'eval_runtime': 33.1706, 'eval_samples_per_second': 29.152, 'eval_steps_per_second': 3.648, 'epoch': 3.0}\n",
            "{'train_runtime': 1824.6063, 'train_samples_per_second': 3.18, 'train_steps_per_second': 0.796, 'train_loss': 0.3996535313418154, 'epoch': 3.0}\n"
          ]
        },
        {
          "data": {
            "text/plain": [
              "TrainOutput(global_step=1452, training_loss=0.3996535313418154, metrics={'train_runtime': 1824.6063, 'train_samples_per_second': 3.18, 'train_steps_per_second': 0.796, 'train_loss': 0.3996535313418154, 'epoch': 3.0})"
            ]
          },
          "execution_count": 23,
          "metadata": {},
          "output_type": "execute_result"
        }
      ],
      "source": [
        "trainer.train()"
      ]
    },
    {
      "cell_type": "code",
      "execution_count": 24,
      "id": "3840523c-f1da-4a4c-93ce-b2f7c872baf2",
      "metadata": {
        "id": "3840523c-f1da-4a4c-93ce-b2f7c872baf2"
      },
      "outputs": [],
      "source": [
        "\n",
        "def predict(text):\n",
        "    inputs = tokenizer(text, padding=True, truncation=True, max_length=512, return_tensors=\"pt\").to(\"cuda\")\n",
        "\n",
        "    # Get model output (logits)\n",
        "    outputs = model(**inputs)\n",
        "\n",
        "    probs = outputs['logits'].softmax(1)\n",
        "    pred_label_idx = probs.argmax()\n",
        "\n",
        "    # Now map the predicted class index to the actual class label\n",
        "\n",
        "    # Since pred_label_idx is a tensor containing a single value (the predicted class index),\n",
        "    # the .item() method is used to extract the value as a scalar\n",
        "\n",
        "    pred_label = model.config.id2label[pred_label_idx.item()]\n",
        "\n",
        "    return probs, pred_label_idx, pred_label\n",
        "\n"
      ]
    },
    {
      "cell_type": "code",
      "execution_count": 25,
      "id": "ca23fd94-a0a5-4a27-89e4-8dce76580a49",
      "metadata": {
        "colab": {
          "base_uri": "https://localhost:8080/"
        },
        "id": "ca23fd94-a0a5-4a27-89e4-8dce76580a49",
        "outputId": "88ab12f3-19cd-41d5-b450-23bb5d658247"
      },
      "outputs": [
        {
          "data": {
            "text/plain": [
              "('Titans_DPBH_XLNet_Fine_Tuned_Model\\\\tokenizer_config.json',\n",
              " 'Titans_DPBH_XLNet_Fine_Tuned_Model\\\\special_tokens_map.json',\n",
              " 'Titans_DPBH_XLNet_Fine_Tuned_Model\\\\tokenizer.json')"
            ]
          },
          "execution_count": 25,
          "metadata": {},
          "output_type": "execute_result"
        }
      ],
      "source": [
        "model_path = \"Titans_DPBH_XLNet_Fine_Tuned_Model\"\n",
        "trainer.save_model(model_path)\n",
        "tokenizer.save_pretrained(model_path)"
      ]
    },
    {
      "cell_type": "code",
      "execution_count": 26,
      "id": "4ab9a4b2-1a25-46ab-96f9-663c1c4e348a",
      "metadata": {
        "id": "4ab9a4b2-1a25-46ab-96f9-663c1c4e348a"
      },
      "outputs": [],
      "source": [
        "# Reload the model\n",
        "\n",
        "model_path = \"Titans_DPBH_XLNet_Fine_Tuned_Model\"\n",
        "\n",
        "model = XLNetForSequenceClassification.from_pretrained(model_path)\n",
        "tokenizer = AutoTokenizer.from_pretrained(model_path)\n",
        "nlp = pipeline(\"sentiment-analysis\", model=model, tokenizer=tokenizer)"
      ]
    },
    {
      "cell_type": "code",
      "execution_count": 27,
      "id": "ef887002-573f-4238-b95d-a74ac24d0eea",
      "metadata": {
        "colab": {
          "base_uri": "https://localhost:8080/"
        },
        "id": "ef887002-573f-4238-b95d-a74ac24d0eea",
        "outputId": "fc289a89-7e91-459f-d0bd-e325da45beff"
      },
      "outputs": [
        {
          "data": {
            "text/plain": [
              "[{'label': 'Social Proof', 'score': 0.9998997449874878}]"
            ]
          },
          "execution_count": 27,
          "metadata": {},
          "output_type": "execute_result"
        }
      ],
      "source": [
        "nlp(\"Haris just bought an underwear at just rs 99\")"
      ]
    },
    {
      "cell_type": "code",
      "execution_count": 28,
      "id": "e5015db8-573e-4917-90ad-3b9a732e0971",
      "metadata": {
        "colab": {
          "base_uri": "https://localhost:8080/"
        },
        "id": "e5015db8-573e-4917-90ad-3b9a732e0971",
        "outputId": "9a2a4ecb-847a-450f-d1d5-f22b1fe6faee"
      },
      "outputs": [
        {
          "data": {
            "text/plain": [
              "[{'label': 'Misdirection', 'score': 0.9996906518936157}]"
            ]
          },
          "execution_count": 28,
          "metadata": {},
          "output_type": "execute_result"
        }
      ],
      "source": [
        "nlp(\"i dont want any knowledge\")"
      ]
    },
    {
      "cell_type": "code",
      "execution_count": 29,
      "id": "afea24e1-5f9a-48da-881a-2d972fa72ed1",
      "metadata": {
        "colab": {
          "base_uri": "https://localhost:8080/"
        },
        "id": "afea24e1-5f9a-48da-881a-2d972fa72ed1",
        "outputId": "83ddea31-01af-48db-c35a-0068f4a417c9"
      },
      "outputs": [
        {
          "data": {
            "text/plain": [
              "[{'label': 'Misdirection', 'score': 0.9996703863143921}]"
            ]
          },
          "execution_count": 29,
          "metadata": {},
          "output_type": "execute_result"
        }
      ],
      "source": [
        "nlp(\"I want to buy and eat some ice cream today.\")"
      ]
    },
    {
      "cell_type": "code",
      "execution_count": null,
      "id": "1402753f-30ca-415b-8707-5e23b22c1be9",
      "metadata": {
        "id": "1402753f-30ca-415b-8707-5e23b22c1be9"
      },
      "outputs": [],
      "source": []
    }
  ],
  "metadata": {
    "accelerator": "GPU",
    "colab": {
      "gpuType": "T4",
      "provenance": []
    },
    "kernelspec": {
      "display_name": "Python 3",
      "name": "python3"
    },
    "language_info": {
      "codemirror_mode": {
        "name": "ipython",
        "version": 3
      },
      "file_extension": ".py",
      "mimetype": "text/x-python",
      "name": "python",
      "nbconvert_exporter": "python",
      "pygments_lexer": "ipython3",
      "version": "3.11.2"
    }
  },
  "nbformat": 4,
  "nbformat_minor": 5
}
